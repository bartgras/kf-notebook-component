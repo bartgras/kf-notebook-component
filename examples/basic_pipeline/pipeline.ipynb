{
 "metadata": {
  "language_info": {
   "codemirror_mode": {
    "name": "ipython",
    "version": 3
   },
   "file_extension": ".py",
   "mimetype": "text/x-python",
   "name": "python",
   "nbconvert_exporter": "python",
   "pygments_lexer": "ipython3",
   "version": "3.7.5-final"
  },
  "orig_nbformat": 2,
  "kernelspec": {
   "name": "python3",
   "display_name": "Python 3.7.5 64-bit ('.venv': venv)",
   "metadata": {
    "interpreter": {
     "hash": "fe3cdae4d9e5fcdfb30e08c92255820dd67d52d5b3cb5d054ff2d9e0daa778ac"
    }
   }
  }
 },
 "nbformat": 4,
 "nbformat_minor": 2,
 "cells": [
  {
   "source": [
    "## Example notebook component pipeline\n",
    "\n",
    "First component:\n",
    "\n",
    "*  get's `a`, `b`, `c` inputs from pipeline input.\n",
    "\n",
    "* executes notebook `notebook_step_1.py` that uses those variables and ouputs variable `d` and artifact `x`\n",
    "\n",
    "Second component:\n",
    "\n",
    "* injests variable `d` and artifact `x` from previous step\n"
   ],
   "cell_type": "markdown",
   "metadata": {}
  },
  {
   "cell_type": "code",
   "execution_count": 1,
   "metadata": {},
   "outputs": [],
   "source": [
    "from kfn import NbComponentBuilder\n",
    "import kfp"
   ]
  },
  {
   "cell_type": "code",
   "execution_count": null,
   "metadata": {},
   "outputs": [],
   "source": [
    "base_image = 'asia.gcr.io/ppb-services/tensorflow-1.14.0-py3-jupytext-papermill:latest'\n",
    "packages_to_install = ['pandas', 'matplotlib']"
   ]
  },
  {
   "cell_type": "code",
   "execution_count": 2,
   "metadata": {},
   "outputs": [
    {
     "output_type": "stream",
     "name": "stdout",
     "text": [
      "SIGNATURE:  (c: int, a: int = '1', b: int = '2')\n"
     ]
    }
   ],
   "source": [
    "nb = NbComponentBuilder(\n",
    "    'Task 1', \n",
    "    inject_notebook_path='notebook_step_1.py', \n",
    "    remove_nb_inputs=True)\n",
    "\n",
    "nb.add_input_param('a', int, 1)\n",
    "nb.add_input_param('b', int, 2)\n",
    "nb.add_input_param('c', int, None)\n",
    "nb.add_output_param('d', int)\n",
    "nb.add_output_artifact('x')\n",
    "first_op = nb.build_op(\n",
    "    base_image=base_image, \n",
    "    packages_to_install=packages_to_install)"
   ]
  },
  {
   "cell_type": "code",
   "execution_count": null,
   "metadata": {},
   "outputs": [],
   "source": [
    "nb = NbComponentBuilder(\n",
    "    'Task 2', \n",
    "    inject_notebook_path='notebook_step_2.py')\n",
    "\n",
    "nb.add_input_artifact('x')\n",
    "nb.add_input_param('d', int)\n",
    "second_op = nb.build_op(\n",
    "    base_image=base_image, \n",
    "    packages_to_install=packages_to_install)"
   ]
  },
  {
   "cell_type": "code",
   "execution_count": null,
   "metadata": {},
   "outputs": [],
   "source": [
    "# Define pipeline\n",
    "@kfp.dsl.pipeline(name='Notebook pipeline example')\n",
    "def notebook_run_pipeline(\n",
    "    a='a', b='b', c='c'\n",
    "):\n",
    "    op1 = first_op(a=a, b=b, c=c)    \n",
    "    second_op(x=op1.outputs['x'], d=op1.outputs['d'])    \n",
    "\n",
    "# Run\n",
    "arguments = {'a': 20, 'b': 30, 'c': 40}\n",
    "kfp.Client().create_run_from_pipeline_func(notebook_run_pipeline, arguments=arguments)"
   ]
  }
 ]
}